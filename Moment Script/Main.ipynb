{
 "cells": [
  {
   "cell_type": "code",
   "execution_count": 1,
   "metadata": {},
   "outputs": [],
   "source": [
    "import numpy as np\n",
    "import matplotlib.pyplot as plt\n",
    "import pandas as pd"
   ]
  },
  {
   "cell_type": "code",
   "execution_count": 2,
   "metadata": {},
   "outputs": [],
   "source": [
    "airDensity = 1.293 #kg/m^3\n",
    "# velocity = np.linspace(0,21.336,1000)"
   ]
  },
  {
   "cell_type": "code",
   "execution_count": 6,
   "metadata": {},
   "outputs": [],
   "source": [
    "def get_x_pos(name, df = data): # with ref to datum\n",
    "    return df[df['Component Name'] == name]['X-Position from Datum [m]'].iloc[0]\n",
    "\n",
    "def get_y_pos(name, df = data): # with ref to datum\n",
    "    return df[df['Component Name'] == name]['Y-Position from Datum [m]'].iloc[0]\n",
    "\n",
    "def get_x_pos_COM(name, df = data): # with ref to datum\n",
    "    return df[df['Component Name'] == name]['X-Position from COM [m]'].iloc[0]\n",
    "\n",
    "def get_y_pos_COM(name, df = data): # with ref to datum\n",
    "    return df[df['Component Name'] == name]['Y-Position from COM [m]'].iloc[0]\n",
    "\n",
    "def drag_force(area, cd, V = velocity):\n",
    "    airDensity = 1.293\n",
    "    return cd * airDensity * area * V** 2 / 2"
   ]
  },
  {
   "cell_type": "code",
   "execution_count": 51,
   "metadata": {},
   "outputs": [],
   "source": [
    "fuse = 'Fuselage'\n",
    "wing = 'Wings'\n",
    "h_prop = 'Thrust Propellor'\n"
   ]
  },
  {
   "cell_type": "code",
   "execution_count": 17,
   "metadata": {},
   "outputs": [
    {
     "data": {
      "text/plain": [
       "-0.15"
      ]
     },
     "execution_count": 17,
     "metadata": {},
     "output_type": "execute_result"
    }
   ],
   "source": []
  },
  {
   "cell_type": "code",
   "execution_count": 43,
   "metadata": {},
   "outputs": [
    {
     "data": {
      "text/html": [
       "<div>\n",
       "<style scoped>\n",
       "    .dataframe tbody tr th:only-of-type {\n",
       "        vertical-align: middle;\n",
       "    }\n",
       "\n",
       "    .dataframe tbody tr th {\n",
       "        vertical-align: top;\n",
       "    }\n",
       "\n",
       "    .dataframe thead th {\n",
       "        text-align: right;\n",
       "    }\n",
       "</style>\n",
       "<table border=\"1\" class=\"dataframe\">\n",
       "  <thead>\n",
       "    <tr style=\"text-align: right;\">\n",
       "      <th></th>\n",
       "      <th>Component Name</th>\n",
       "      <th>Mass [g]</th>\n",
       "      <th>X-Position from Datum [m]</th>\n",
       "      <th>Y-Position from Datum [m]</th>\n",
       "      <th>X-Contribution</th>\n",
       "      <th>Y-Contribution</th>\n",
       "      <th>X-Position from COM [m]</th>\n",
       "      <th>Y-Position from COM [m]</th>\n",
       "    </tr>\n",
       "  </thead>\n",
       "  <tbody>\n",
       "    <tr>\n",
       "      <th>0</th>\n",
       "      <td>Wings</td>\n",
       "      <td>1200.0</td>\n",
       "      <td>0.00</td>\n",
       "      <td>0.0</td>\n",
       "      <td>0.000000</td>\n",
       "      <td>0.00000</td>\n",
       "      <td>0.054932</td>\n",
       "      <td>0.056164</td>\n",
       "    </tr>\n",
       "    <tr>\n",
       "      <th>1</th>\n",
       "      <td>Fuse</td>\n",
       "      <td>2000.0</td>\n",
       "      <td>-0.20</td>\n",
       "      <td>-0.1</td>\n",
       "      <td>-3.924000</td>\n",
       "      <td>-1.96200</td>\n",
       "      <td>-0.145068</td>\n",
       "      <td>-0.043836</td>\n",
       "    </tr>\n",
       "    <tr>\n",
       "      <th>2</th>\n",
       "      <td>Tail</td>\n",
       "      <td>400.0</td>\n",
       "      <td>0.50</td>\n",
       "      <td>0.0</td>\n",
       "      <td>1.962000</td>\n",
       "      <td>0.00000</td>\n",
       "      <td>0.554932</td>\n",
       "      <td>0.056164</td>\n",
       "    </tr>\n",
       "    <tr>\n",
       "      <th>3</th>\n",
       "      <td>Thrust Propeller</td>\n",
       "      <td>50.0</td>\n",
       "      <td>-0.01</td>\n",
       "      <td>-0.1</td>\n",
       "      <td>-0.004905</td>\n",
       "      <td>-0.04905</td>\n",
       "      <td>0.044932</td>\n",
       "      <td>-0.043836</td>\n",
       "    </tr>\n",
       "    <tr>\n",
       "      <th>4</th>\n",
       "      <td>```</td>\n",
       "      <td>NaN</td>\n",
       "      <td>NaN</td>\n",
       "      <td>NaN</td>\n",
       "      <td>NaN</td>\n",
       "      <td>NaN</td>\n",
       "      <td>NaN</td>\n",
       "      <td>NaN</td>\n",
       "    </tr>\n",
       "  </tbody>\n",
       "</table>\n",
       "</div>"
      ],
      "text/plain": [
       "     Component Name  Mass [g]  X-Position from Datum [m]  \\\n",
       "0             Wings    1200.0                       0.00   \n",
       "1              Fuse    2000.0                      -0.20   \n",
       "2              Tail     400.0                       0.50   \n",
       "3  Thrust Propeller      50.0                      -0.01   \n",
       "4               ```       NaN                        NaN   \n",
       "\n",
       "   Y-Position from Datum [m]  X-Contribution  Y-Contribution  \\\n",
       "0                        0.0        0.000000         0.00000   \n",
       "1                       -0.1       -3.924000        -1.96200   \n",
       "2                        0.0        1.962000         0.00000   \n",
       "3                       -0.1       -0.004905        -0.04905   \n",
       "4                        NaN             NaN             NaN   \n",
       "\n",
       "   X-Position from COM [m]  Y-Position from COM [m]  \n",
       "0                 0.054932                 0.056164  \n",
       "1                -0.145068                -0.043836  \n",
       "2                 0.554932                 0.056164  \n",
       "3                 0.044932                -0.043836  \n",
       "4                      NaN                      NaN  "
      ]
     },
     "execution_count": 43,
     "metadata": {},
     "output_type": "execute_result"
    }
   ],
   "source": [
    "\n",
    "# tailData = pd.DataFrame({'Cross Section Area [m^2]': [0.172], 'Lift Coefficient': [0.19329], 'Distance from Datum [m]': [0.939]})\n",
    "# #tailLift = 0.5 * airDensity * tailData['Cross Section Area [m^2]'][0] * tailData['Lift Coefficient'][0] * velocity**2\n",
    "# tailLift = 0\n",
    "# thrustData = pd.read_csv(\"thrustData.csv\")\n",
    "\n",
    "data"
   ]
  },
  {
   "cell_type": "code",
   "execution_count": 104,
   "metadata": {},
   "outputs": [],
   "source": [
    "data = pd.read_csv('test.csv')\n",
    "velocity = 17\n",
    "data['X-Contribution'] = data['X-Position from Datum [m]'] *  data['Mass [g]'] * 9.81/1000\n",
    "data['Y-Contribution'] = data['Y-Position from Datum [m]'] *  data['Mass [g]'] * 9.81/1000\n",
    "\n",
    "\n",
    "\n",
    "total_mass = (data['Mass [g]']/1000).sum() # kg\n",
    "total_mass_force = total_mass * 9.81\n",
    "\n",
    "x_total_mass_moment = data['X-Contribution'].sum()\n",
    "y_total_mass_moment = data['Y-Contribution'].sum()\n",
    "\n",
    "x_COM = x_total_mass_moment/total_mass_force\n",
    "y_COM = y_total_mass_moment/total_mass_force\n",
    "\n",
    "data['X-Position from COM [m]'] = data['X-Position from Datum [m]'] - x_COM\n",
    "data['Y-Position from COM [m]'] = data['Y-Position from Datum [m]'] - y_COM\n",
    "\n",
    "wing_cp = 0.218\n",
    "wing_chord = 0.4\n",
    "wing_lift = 10.4*9.81\n",
    "cp_location_COM = get_x_pos(wing,data)+0.5*wing_chord-wing_cp\n",
    "cp_location_COM = get_x_pos_COM(wing,data)+0.5*wing_chord-wing_cp\n",
    "wing_x_moment = cp_location_COM*wing_lift\n",
    "\n",
    "wing_cd = 0.064\n",
    "wing_area = 0.585\n",
    "wing_drag = drag_force(wing_area, wing_cd, velocity)\n",
    "wing_y_moment = get_y_pos_COM(wing,data)*wing_drag\n",
    "\n",
    "\n",
    "fuse_area = 0.04 # m^2\n",
    "fuse_cd = 0.295\n",
    "fuse_drag = drag_force(fuse_area, fuse_cd, velocity)\n",
    "fuse_y_moment = fuse_drag * get_y_pos_COM(fuse,data)\n",
    "\n",
    "total_drag = wing_drag + fuse_drag\n",
    "\n",
    "thrustData = pd.read_csv(\"thrustData.csv\")\n",
    "thrust = - wing_drag - fuse_drag\n",
    "thrust_y_moment = thrust*get_y_pos_COM(h_prop,data)"
   ]
  },
  {
   "cell_type": "code",
   "execution_count": 93,
   "metadata": {},
   "outputs": [
    {
     "data": {
      "text/plain": [
       "0.4032845036712329"
      ]
     },
     "execution_count": 93,
     "metadata": {},
     "output_type": "execute_result"
    }
   ],
   "source": [
    "total_x_moment = wing_x_moment\n",
    "total_y_moment = wing_y_moment + fuse_y_moment + thrust_y_moment\n",
    "total_moment = total_x_moment + total_y_moment\n",
    "thrust_y_moment"
   ]
  },
  {
   "cell_type": "code",
   "execution_count": 127,
   "metadata": {},
   "outputs": [
    {
     "data": {
      "text/plain": [
       "4.467423398794524"
      ]
     },
     "execution_count": 127,
     "metadata": {},
     "output_type": "execute_result"
    }
   ],
   "source": [
    "# fuse_y_moment = fuse_drag * get_y_pos_COM(fuse,data)\n",
    "wing_y_moment +wing_x_moment\n",
    "total_moment"
   ]
  },
  {
   "cell_type": "code",
   "execution_count": 126,
   "metadata": {},
   "outputs": [
    {
     "data": {
      "text/html": [
       "<div>\n",
       "<style scoped>\n",
       "    .dataframe tbody tr th:only-of-type {\n",
       "        vertical-align: middle;\n",
       "    }\n",
       "\n",
       "    .dataframe tbody tr th {\n",
       "        vertical-align: top;\n",
       "    }\n",
       "\n",
       "    .dataframe thead th {\n",
       "        text-align: right;\n",
       "    }\n",
       "</style>\n",
       "<table border=\"1\" class=\"dataframe\">\n",
       "  <thead>\n",
       "    <tr style=\"text-align: right;\">\n",
       "      <th></th>\n",
       "      <th>Component Name</th>\n",
       "      <th>Mass [g]</th>\n",
       "      <th>X-Position from Datum [m]</th>\n",
       "      <th>Y-Position from Datum [m]</th>\n",
       "      <th>X-Contribution</th>\n",
       "      <th>Y-Contribution</th>\n",
       "      <th>X-Position from COM [m]</th>\n",
       "      <th>Y-Position from COM [m]</th>\n",
       "    </tr>\n",
       "  </thead>\n",
       "  <tbody>\n",
       "    <tr>\n",
       "      <th>0</th>\n",
       "      <td>Wings</td>\n",
       "      <td>1200.0</td>\n",
       "      <td>0.00</td>\n",
       "      <td>0.0</td>\n",
       "      <td>0.000000</td>\n",
       "      <td>0.00000</td>\n",
       "      <td>0.054932</td>\n",
       "      <td>0.056164</td>\n",
       "    </tr>\n",
       "    <tr>\n",
       "      <th>1</th>\n",
       "      <td>Fuselage</td>\n",
       "      <td>2000.0</td>\n",
       "      <td>-0.20</td>\n",
       "      <td>-0.1</td>\n",
       "      <td>-3.924000</td>\n",
       "      <td>-1.96200</td>\n",
       "      <td>-0.145068</td>\n",
       "      <td>-0.043836</td>\n",
       "    </tr>\n",
       "    <tr>\n",
       "      <th>2</th>\n",
       "      <td>Tail</td>\n",
       "      <td>400.0</td>\n",
       "      <td>0.50</td>\n",
       "      <td>0.0</td>\n",
       "      <td>1.962000</td>\n",
       "      <td>0.00000</td>\n",
       "      <td>0.554932</td>\n",
       "      <td>0.056164</td>\n",
       "    </tr>\n",
       "    <tr>\n",
       "      <th>3</th>\n",
       "      <td>Thrust Propellor</td>\n",
       "      <td>50.0</td>\n",
       "      <td>-0.01</td>\n",
       "      <td>-0.1</td>\n",
       "      <td>-0.004905</td>\n",
       "      <td>-0.04905</td>\n",
       "      <td>0.044932</td>\n",
       "      <td>-0.043836</td>\n",
       "    </tr>\n",
       "    <tr>\n",
       "      <th>4</th>\n",
       "      <td>```</td>\n",
       "      <td>NaN</td>\n",
       "      <td>NaN</td>\n",
       "      <td>NaN</td>\n",
       "      <td>NaN</td>\n",
       "      <td>NaN</td>\n",
       "      <td>NaN</td>\n",
       "      <td>NaN</td>\n",
       "    </tr>\n",
       "  </tbody>\n",
       "</table>\n",
       "</div>"
      ],
      "text/plain": [
       "     Component Name  Mass [g]  X-Position from Datum [m]  \\\n",
       "0             Wings    1200.0                       0.00   \n",
       "1          Fuselage    2000.0                      -0.20   \n",
       "2              Tail     400.0                       0.50   \n",
       "3  Thrust Propellor      50.0                      -0.01   \n",
       "4               ```       NaN                        NaN   \n",
       "\n",
       "   Y-Position from Datum [m]  X-Contribution  Y-Contribution  \\\n",
       "0                        0.0        0.000000         0.00000   \n",
       "1                       -0.1       -3.924000        -1.96200   \n",
       "2                        0.0        1.962000         0.00000   \n",
       "3                       -0.1       -0.004905        -0.04905   \n",
       "4                        NaN             NaN             NaN   \n",
       "\n",
       "   X-Position from COM [m]  Y-Position from COM [m]  \n",
       "0                 0.054932                 0.056164  \n",
       "1                -0.145068                -0.043836  \n",
       "2                 0.554932                 0.056164  \n",
       "3                 0.044932                -0.043836  \n",
       "4                      NaN                      NaN  "
      ]
     },
     "execution_count": 126,
     "metadata": {},
     "output_type": "execute_result"
    }
   ],
   "source": [
    "wing_x_moment\n",
    "cp_location = get_x_pos(wing,data)+0.5*wing_chord-wing_cp\n",
    "cp_location\n",
    "thrust_y_moment\n",
    "\n",
    "data"
   ]
  }
 ],
 "metadata": {
  "kernelspec": {
   "display_name": "dynamics",
   "language": "python",
   "name": "python3"
  },
  "language_info": {
   "codemirror_mode": {
    "name": "ipython",
    "version": 3
   },
   "file_extension": ".py",
   "mimetype": "text/x-python",
   "name": "python",
   "nbconvert_exporter": "python",
   "pygments_lexer": "ipython3",
   "version": "3.11.4"
  }
 },
 "nbformat": 4,
 "nbformat_minor": 2
}
